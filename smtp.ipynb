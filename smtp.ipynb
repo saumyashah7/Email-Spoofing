{
 "cells": [
  {
   "cell_type": "code",
   "execution_count": 1,
   "metadata": {},
   "outputs": [
    {
     "ename": "SyntaxError",
     "evalue": "Missing parentheses in call to 'print'. Did you mean print(recv)? (<ipython-input-1-00b997578e9c>, line 12)",
     "output_type": "error",
     "traceback": [
      "\u001b[1;36m  File \u001b[1;32m\"<ipython-input-1-00b997578e9c>\"\u001b[1;36m, line \u001b[1;32m12\u001b[0m\n\u001b[1;33m    print recv\u001b[0m\n\u001b[1;37m             ^\u001b[0m\n\u001b[1;31mSyntaxError\u001b[0m\u001b[1;31m:\u001b[0m Missing parentheses in call to 'print'. Did you mean print(recv)?\n"
     ]
    }
   ],
   "source": [
    "\n",
    "from socket import *\n",
    "heloCommand = 'HELO Alice\\r\\n'\n",
    "\n",
    "# Choose a mail server (e.g. Google mail server) and call it mailserver\n",
    "mailserver = \"localhost\" \n",
    "serverport = 25\n",
    "# Create socket called clientSocket and establish a TCP connection with mailserver\n",
    "clientSocket = socket(AF_INET, SOCK_STREAM)\n",
    "clientSocket.connect((mailserver, serverport))\n",
    "recv = clientSocket.recv(1024)\n",
    "print recv\n",
    "if recv[:3] != '220':\n",
    "    print '220 reply not received from server.'\n",
    "\n",
    "# Send HELO command and print server response.\n",
    "print \"Sending First HELO\"\n",
    "clientSocket.send(heloCommand)\n",
    "recv1 = clientSocket.recv(1024)\n",
    "print recv1\n",
    "if recv1[:3] != '250':\n",
    "    print '250 reply not received from server.'\n",
    "\n",
    "# Send MAIL FROM command and print server response.\n",
    "print \"Sending MAIL FROM Command\"\n",
    "mailFromCommand = 'MAIL FROM: mallory@notexisting.org\\r\\n'\n",
    "clientSocket.send(mailFromCommand)\n",
    "recv1 = clientSocket.recv(1024)\n",
    "print recv1\n",
    "if recv1[:3] != '250':\n",
    "    print '250 reply not received from server'\n",
    "\n",
    "# Send RCPT TO command and print server response.\n",
    "print \"Sending RCPT TO Command\"\n",
    "rcptToCommand = 'RCPT TO: saumyashahori18@gmail.com\\r\\n'\n",
    "clientSocket.send(rcptToCommand)\n",
    "recv1 = clientSocket.recv(1024)\n",
    "print recv1\n",
    "if recv1[:3] != '250':\n",
    "    print '250 reply not received from server' \n",
    "\n",
    "# Send DATA command and print server response.\n",
    "print \"Sending DATA Command\"\n",
    "dataCommand = 'DATA\\r\\n'\n",
    "clientSocket.send(dataCommand)\n",
    "recv1 = clientSocket.recv(1024)\n",
    "print recv1\n",
    "if recv1[:3] != '354':\n",
    "    print '354 reply not received from server' \n",
    "\n",
    "# Send message data.\n",
    "# Message ends with a single period.\n",
    "print \"Send message data\"\n",
    "msg=\"SUBJECT: SMTP Mail Client Test\\nI love computer networks\\n.\\r\\n\"\n",
    "clientSocket.send(msg)\n",
    "\n",
    "recv1 = clientSocket.recv(1024)\n",
    "print recv1\n",
    "if recv1[:3] != '250':\n",
    "    print '250 reply not received from server' \n",
    "# Fill in end\n",
    "\n",
    "# Send QUIT command and get server response.\n",
    "quitCommand = 'QUIT\\r\\n'\n",
    "clientSocket.send(\"QUIT\\r\\n\")\n",
    "recv1 = clientSocket.recv(1024)\n",
    "print recv1\n",
    "if recv1[:3] != '221':\n",
    "    print '221 reply not received from server'\n"
   ]
  },
  {
   "cell_type": "code",
   "execution_count": null,
   "metadata": {},
   "outputs": [],
   "source": []
  }
 ],
 "metadata": {
  "kernelspec": {
   "display_name": "Python 3",
   "language": "python",
   "name": "python3"
  },
  "language_info": {
   "codemirror_mode": {
    "name": "ipython",
    "version": 3
   },
   "file_extension": ".py",
   "mimetype": "text/x-python",
   "name": "python",
   "nbconvert_exporter": "python",
   "pygments_lexer": "ipython3",
   "version": "3.6.5"
  }
 },
 "nbformat": 4,
 "nbformat_minor": 2
}
